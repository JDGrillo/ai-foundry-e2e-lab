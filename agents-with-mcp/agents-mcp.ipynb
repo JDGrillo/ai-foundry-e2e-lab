{
 "cells": [
  {
   "cell_type": "code",
   "execution_count": null,
   "id": "b6c1b408",
   "metadata": {},
   "outputs": [],
   "source": [
    "import os, time\n",
    "import asyncio\n",
    "import json\n",
    "from dotenv import load_dotenv\n",
    "from contextlib import AsyncExitStack\n",
    "from mcp import ClientSession, StdioServerParameters\n",
    "from mcp.client.stdio import stdio_client\n",
    "from azure.ai.agents import AgentsClient\n",
    "from azure.ai.agents.models import FunctionTool, MessageRole, ListSortOrder\n",
    "from azure.identity import DefaultAzureCredential"
   ]
  },
  {
   "cell_type": "code",
   "execution_count": null,
   "id": "38b7c505",
   "metadata": {},
   "outputs": [],
   "source": [
    "# python -m venv labenv\n",
    "# ./labenv/bin/Activate.ps1\n",
    "# pip install -r requirements.txt azure-ai-projects mcp"
   ]
  },
  {
   "cell_type": "code",
   "execution_count": null,
   "id": "b09b8069",
   "metadata": {},
   "outputs": [],
   "source": [
    "# Load environment variables from .env file\n",
    "load_dotenv()\n",
    "project_endpoint = os.getenv(\"PROJECT_ENDPOINT\")\n",
    "model_deployment = os.getenv(\"MODEL_DEPLOYMENT_NAME\")\n"
   ]
  },
  {
   "cell_type": "code",
   "execution_count": null,
   "id": "2203896b",
   "metadata": {},
   "outputs": [],
   "source": [
    "async def connect_to_server(exit_stack: AsyncExitStack):\n",
    "    server_params = StdioServerParameters(\n",
    "        command=\"python\",\n",
    "        args=[\"server.py\"],\n",
    "        env=None\n",
    "    )\n",
    "\n",
    "    # Start the MCP server\n",
    "    stdio_transport = await exit_stack.enter_async_context(stdio_client(server_params))\n",
    "    stdio, write = stdio_transport\n",
    "    \n",
    "    # Create an MCP client session\n",
    "    session = await exit_stack.enter_async_context(ClientSession(stdio, write))\n",
    "    await session.initialize()\n",
    "\n",
    "    # List available tools\n",
    "    response = await session.list_tools()\n",
    "    tools = response.tools\n",
    "    print(\"\\nConnected to server with tools:\", [tool.name for tool in tools]) \n",
    "\n",
    "    return session"
   ]
  },
  {
   "cell_type": "code",
   "execution_count": null,
   "id": "09122bf9",
   "metadata": {},
   "outputs": [],
   "source": [
    "async def chat_loop(session):\n",
    "\n",
    "    # Connect to the agents client\n",
    "    \n",
    "\n",
    "    # List tools available on the server\n",
    "    \n",
    "\n",
    "    # Build a function for each tool\n",
    "    \n",
    "\n",
    "    # Create the agent\n",
    "    \n",
    "\n",
    "    # Enable auto function calling\n",
    "    \n",
    "\n",
    "    # Create a thread for the chat session"
   ]
  }
 ],
 "metadata": {
  "kernelspec": {
   "display_name": ".venv",
   "language": "python",
   "name": "python3"
  },
  "language_info": {
   "name": "python",
   "version": "3.12.10"
  }
 },
 "nbformat": 4,
 "nbformat_minor": 5
}
