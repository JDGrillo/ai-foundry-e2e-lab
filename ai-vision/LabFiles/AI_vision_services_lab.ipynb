{
 "cells": [
  {
   "cell_type": "markdown",
   "id": "37704c90",
   "metadata": {},
   "source": [
    "## 01. Load Environment Variables  \n",
    "This cell loads the configuration settings from your `.env` file, ensuring that your API credentials and file paths are available for subsequent code cells."
   ]
  },
  {
   "cell_type": "code",
   "execution_count": null,
   "id": "55b1446f",
   "metadata": {},
   "outputs": [],
   "source": [
    "import os\n",
    "import requests\n",
    "from dotenv import load_dotenv\n",
    "\n",
    "env_file = \".env\"\n",
    "load_dotenv(env_file)\n",
    "\n",
    "COMPUTER_VISION_API_KEY = os.getenv(\"COMPUTER_VISION_API_KEY\")\n",
    "COMPUTER_VISION_ENDPOINT = os.getenv(\"COMPUTER_VISION_ENDPOINT\")\n",
    "VIDEO_INDEXER_ACCOUNT_ID = os.getenv(\"VIDEO_INDEXER_ACCOUNT_ID\")\n",
    "VIDEO_INDEXER_LOCATION = os.getenv(\"VIDEO_INDEXER_LOCATION\")\n",
    "VIDEO_INDEXER_TOKEN = os.getenv(\"VIDEO_INDEXER_TOKEN\")"
   ]
  },
  {
   "cell_type": "markdown",
   "id": "2ad88f71",
   "metadata": {},
   "source": [
    "## 02. Extract Text from Images\n",
    "Optical Character Recognition (OCR)"
   ]
  },
  {
   "cell_type": "code",
   "execution_count": null,
   "id": "232ab15a",
   "metadata": {},
   "outputs": [],
   "source": [
    "IMAGEPATH_OCR= \"images/ocr_image.png\""
   ]
  },
  {
   "cell_type": "code",
   "execution_count": null,
   "id": "e9890b42",
   "metadata": {},
   "outputs": [],
   "source": [
    "def perform_ocr(image_path):\n",
    "    with open(image_path, \"rb\") as f:\n",
    "        image_data = f.read()\n",
    "    url = f\"{COMPUTER_VISION_ENDPOINT.rstrip('/')}/computervision/imageanalysis:analyze?api-version=2023-02-01-preview&features=read\"\n",
    "    headers = {\n",
    "        \"Ocp-Apim-Subscription-Key\": COMPUTER_VISION_API_KEY,\n",
    "        \"Content-Type\": \"application/octet-stream\"\n",
    "    }\n",
    "    try:\n",
    "        response = requests.post(url, headers=headers, data=image_data)\n",
    "        response.raise_for_status()\n",
    "        return response\n",
    "    except requests.exceptions.RequestException as e:\n",
    "        print(\"OCR error:\", e)\n",
    "        return None\n",
    "\n",
    "if IMAGEPATH_OCR and os.path.isfile(IMAGEPATH_OCR):\n",
    "    res = perform_ocr(IMAGEPATH_OCR)\n",
    "    if res:\n",
    "        print(res.json())\n",
    "else:\n",
    "    print(\"IMAGEPATH_OCR is not defined or the file does not exist.\")"
   ]
  },
  {
   "cell_type": "markdown",
   "id": "fa28387d",
   "metadata": {},
   "source": [
    "## 03. Search Photos with Image Retrieval\n",
    "Search photos with image retrieval"
   ]
  },
  {
   "cell_type": "code",
   "execution_count": null,
   "id": "181b4df4",
   "metadata": {},
   "outputs": [],
   "source": [
    "IMAGEPATH_SEARCH = \"SEARCH_IMAGE_PATH\""
   ]
  },
  {
   "cell_type": "code",
   "execution_count": null,
   "id": "ca1a08f5",
   "metadata": {},
   "outputs": [],
   "source": [
    "import os\n",
    "import requests\n",
    "\n",
    "def search_photos_with_image_retrieval(image_path):\n",
    "    with open(image_path, \"rb\") as image_file:\n",
    "        image_data = image_file.read()\n",
    "\n",
    "    headers = {\n",
    "        \"Ocp-Apim-Subscription-Key\": COMPUTER_VISION_API_KEY,\n",
    "        \"Content-Type\": \"application/octet-stream\"\n",
    "    }\n",
    "\n",
    "    # Use the \"tags\" feature to extract descriptive keywords for image retrieval.\n",
    "    url = f\"{COMPUTER_VISION_ENDPOINT}/computervision/imageanalysis:analyze?api-version=2023-02-01-preview&features=tags\"\n",
    "    \n",
    "    response = requests.post(url, headers=headers, data=image_data)\n",
    "    return response\n",
    "\n",
    "if IMAGEPATH_SEARCH and os.path.isfile(IMAGEPATH_SEARCH):\n",
    "    response = search_photos_with_image_retrieval(IMAGEPATH_SEARCH)\n",
    "    print(response.json())\n",
    "else:\n",
    "    print(\"IMAGEPATH_SEARCH is not defined or the file does not exist. Please check your .env file.\")"
   ]
  },
  {
   "cell_type": "markdown",
   "id": "975e5469",
   "metadata": {},
   "source": [
    "## 04. Add Dense Captions to Images\n",
    "Provide Dense captions to images"
   ]
  },
  {
   "cell_type": "code",
   "execution_count": null,
   "id": "438c44ba",
   "metadata": {},
   "outputs": [],
   "source": [
    "IMAGEPATH_DENSECAPS = \"DENSE_CAP_IMAGE_PATH\""
   ]
  },
  {
   "cell_type": "code",
   "execution_count": null,
   "id": "7828be8e",
   "metadata": {},
   "outputs": [],
   "source": [
    "def get_dense_captions(image_path):\n",
    "   # Read the image file in binary mode\n",
    "   with open(image_path, \"rb\") as image_file:\n",
    "       image_data = image_file.read()\n",
    "   \n",
    "   # Define the request headers including your API key and content type\n",
    "   headers = {\n",
    "       \"Ocp-Apim-Subscription-Key\": COMPUTER_VISION_API_KEY,\n",
    "       \"Content-Type\": \"application/octet-stream\"\n",
    "   }\n",
    "   \n",
    "   # Use the \"denseCaptions\" feature to extract detailed captions from the image.\n",
    "   url = f\"{COMPUTER_VISION_ENDPOINT.rstrip('/')}/computervision/imageanalysis:analyze?api-version=2023-02-01-preview&features=denseCaptions\"\n",
    "   \n",
    "   response = requests.post(url, headers=headers, data=image_data)\n",
    "   return response\n",
    "\n",
    "# Check if the IMAGEPATH_DENSECAPS is defined and the file exists.\n",
    "if IMAGEPATH_DENSECAPS and os.path.isfile(IMAGEPATH_DENSECAPS):\n",
    "   response = get_dense_captions(IMAGEPATH_DENSECAPS)\n",
    "   print(response.json())\n",
    "else:\n",
    "   print(\"IMAGEPATH_DENSECAPS is not defined or the file does not exist. Please check your .env file.\")"
   ]
  },
  {
   "cell_type": "markdown",
   "id": "53c1c167",
   "metadata": {},
   "source": [
    "## 05. Add Captions to Images\n",
    "Generate captions from an image using Azure AI Vision."
   ]
  },
  {
   "cell_type": "code",
   "execution_count": null,
   "id": "b8da827b",
   "metadata": {},
   "outputs": [],
   "source": [
    "IMAGEPATH_CAPTIONS = \"IMAGEPATH_CAPTIONS\""
   ]
  },
  {
   "cell_type": "code",
   "execution_count": null,
   "id": "997b23cb",
   "metadata": {},
   "outputs": [],
   "source": [
    "\n",
    "def get_image_captions(image_path):\n",
    "   # Open the image file in binary mode\n",
    "   with open(image_path, \"rb\") as f:\n",
    "       image_data = f.read()\n",
    "   # Construct the API URL using the COMPUTER_VISION_ENDPOINT and the captions feature\n",
    "   url = f\"{COMPUTER_VISION_ENDPOINT.rstrip('/')}/computervision/imageanalysis:analyze?api-version=2023-02-01-preview&features=captions\"\n",
    "   headers = {\n",
    "       \"Ocp-Apim-Subscription-Key\": COMPUTER_VISION_API_KEY,\n",
    "       \"Content-Type\": \"application/octet-stream\"\n",
    "   }\n",
    "   # Make the POST request to the API\n",
    "   response = requests.post(url, headers=headers, data=image_data)\n",
    "   return response\n",
    "\n",
    "# Check if the IMAGEPATH_CAPTIONS is defined and the file exists.\n",
    "if IMAGEPATH_CAPTIONS and os.path.isfile(IMAGEPATH_CAPTIONS):\n",
    "   response = get_image_captions(IMAGEPATH_CAPTIONS)\n",
    "   print(response.json())\n",
    "else:\n",
    "   print(\"IMAGEPATH_CAPTIONS is not defined or the file does not exist. Please check your .env file.\")"
   ]
  },
  {
   "cell_type": "markdown",
   "id": "c671fbea",
   "metadata": {},
   "source": [
    "## 06. Extract Common Tags from Images\n",
    "Detect common objects from images"
   ]
  },
  {
   "cell_type": "code",
   "execution_count": 6,
   "id": "260e0dba",
   "metadata": {},
   "outputs": [],
   "source": [
    "IMAGEPATH_TAGS = \"IMAGEPATH_TAGS\""
   ]
  },
  {
   "cell_type": "code",
   "execution_count": null,
   "id": "00da49c6",
   "metadata": {},
   "outputs": [],
   "source": [
    "\n",
    "def extract_image_tags(image_path):\n",
    "   # Open the image file in binary mode\n",
    "   with open(image_path, \"rb\") as f:\n",
    "       image_data = f.read()\n",
    "   \n",
    "   # Construct the API URL using the COMPUTER_VISION_ENDPOINT and the tags feature\n",
    "   url = f\"{COMPUTER_VISION_ENDPOINT.rstrip('/')}/computervision/imageanalysis:analyze?api-version=2023-02-01-preview&features=tags\"\n",
    "   headers = {\n",
    "       \"Ocp-Apim-Subscription-Key\": COMPUTER_VISION_API_KEY,\n",
    "       \"Content-Type\": \"application/octet-stream\"\n",
    "   }\n",
    "   # Make the POST request to the API\n",
    "   response = requests.post(url, headers=headers, data=image_data)\n",
    "   return response\n",
    "\n",
    "# Check if the IMAGEPATH_TAGS is defined and the file exists.\n",
    "if IMAGEPATH_TAGS and os.path.isfile(IMAGEPATH_TAGS):\n",
    "   response = extract_image_tags(IMAGEPATH_TAGS)\n",
    "   print(response.json())\n",
    "else:\n",
    "   print(\"IMAGEPATH_TAGS is not defined or the file does not exist. Please check your .env file.\")"
   ]
  },
  {
   "cell_type": "markdown",
   "id": "e8e66ca8",
   "metadata": {},
   "source": [
    "## 07. Create Smart-Cropped Images\n",
    "Image Analysis"
   ]
  },
  {
   "cell_type": "code",
   "execution_count": null,
   "id": "c604e296",
   "metadata": {},
   "outputs": [],
   "source": [
    "IMAGEPATH_CROP = \"IMAGEPATH_CROP\""
   ]
  },
  {
   "cell_type": "code",
   "execution_count": null,
   "id": "02f81265",
   "metadata": {},
   "outputs": [],
   "source": [
    "from PIL import Image\n",
    "from io import BytesIO\n",
    "\n",
    "def generate_smart_crop(image_path, width=400, height=400):\n",
    "   # Open the image file in binary mode\n",
    "   with open(image_path, \"rb\") as image_file:\n",
    "       image_data = image_file.read()\n",
    "   \n",
    "   # Construct the API URL with the smart cropping parameters\n",
    "   url = f\"{COMPUTER_VISION_ENDPOINT.rstrip('/')}/computervision/v3.2/generateThumbnail?width={width}&height={height}&smartCropping=true\"\n",
    "   headers = {\n",
    "       \"Ocp-Apim-Subscription-Key\": COMPUTER_VISION_API_KEY,\n",
    "       \"Content-Type\": \"application/octet-stream\"\n",
    "   }\n",
    "   \n",
    "   # Make the POST request to generate a smart-cropped image\n",
    "   response = requests.post(url, headers=headers, data=image_data)\n",
    "   response.raise_for_status()  # Ensure the request succeeded\n",
    "   return response\n",
    "\n",
    "# Check if the IMAGEPATH_CROP is defined and the file exists.\n",
    "if IMAGEPATH_CROP and os.path.isfile(IMAGEPATH_CROP):\n",
    "   response = generate_smart_crop(IMAGEPATH_CROP, width=400, height=400)\n",
    "   # The response contains the binary image data of the cropped image.\n",
    "   cropped_image = Image.open(BytesIO(response.content))\n",
    "   cropped_image.show()  # This opens the cropped image in your default image viewer.\n",
    "else:\n",
    "   print(\"IMAGEPATH_CROP is not defined or the file does not exist. Please check your .env file.\")"
   ]
  },
  {
   "cell_type": "markdown",
   "id": "51d0176e",
   "metadata": {},
   "source": [
    "## 08. Video Indexer  "
   ]
  },
  {
   "cell_type": "code",
   "execution_count": 7,
   "id": "96f9bb45",
   "metadata": {},
   "outputs": [],
   "source": [
    "VIDEO_INDEXER_SAMPLEPATH = \"VIDEO_INDEXER_SAMPLEPATH\""
   ]
  },
  {
   "cell_type": "code",
   "execution_count": null,
   "id": "9fd61891",
   "metadata": {},
   "outputs": [],
   "source": [
    "import json\n",
    "import time\n",
    "\n",
    "load_dotenv(\".env\")\n",
    "\n",
    "VIDEO_INDEXER_TOKEN = os.getenv(\"VIDEO_INDEXER_TOKEN\")\n",
    "VIDEO_INDEXER_SAMPLEPATH = os.getenv(\"VIDEO_INDEXER_SAMPLEPATH\")\n",
    "VIDEO_INDEXER_LOCATION = os.getenv(\"VIDEO_INDEXER_LOCATION\")\n",
    "VIDEO_INDEXER_ACCOUNT_ID = os.getenv(\"VIDEO_INDEXER_ACCOUNT_ID\")\n",
    "\n",
    "video_name = os.path.splitext(os.path.basename(VIDEO_INDEXER_SAMPLEPATH))[0]\n",
    "\n",
    "list_url = f\"https://api.videoindexer.ai/{VIDEO_INDEXER_LOCATION}/Accounts/{VIDEO_INDEXER_ACCOUNT_ID}/Videos?accessToken={VIDEO_INDEXER_TOKEN}\"\n",
    "list_response = requests.get(list_url)\n",
    "list_response.raise_for_status()\n",
    "videos_list = list_response.json()\n",
    "\n",
    "for video in videos_list.get(\"videos\", []):\n",
    "    if video.get(\"name\") == video_name:\n",
    "        vid_id = video.get(\"id\")\n",
    "        delete_url = f\"https://api.videoindexer.ai/{VIDEO_INDEXER_LOCATION}/Accounts/{VIDEO_INDEXER_ACCOUNT_ID}/Videos/{vid_id}?accessToken={VIDEO_INDEXER_TOKEN}\"\n",
    "        delete_response = requests.delete(delete_url)\n",
    "        if delete_response.status_code == 204:\n",
    "            print(f\"Deleted video with id {vid_id}\")\n",
    "        else:\n",
    "            print(f\"Failed to delete video with id {vid_id}: {delete_response.text}\")\n",
    "\n",
    "time.sleep(10)\n",
    "\n",
    "upload_url = f\"https://api.videoindexer.ai/{VIDEO_INDEXER_LOCATION}/Accounts/{VIDEO_INDEXER_ACCOUNT_ID}/Videos?accessToken={VIDEO_INDEXER_TOKEN}&name={video_name}&privacy=Private\"\n",
    "with open(VIDEO_INDEXER_SAMPLEPATH, \"rb\") as video_file:\n",
    "    video_data = video_file.read()\n",
    "files = {'file': (os.path.basename(VIDEO_INDEXER_SAMPLEPATH), video_data, 'video/mp4')}\n",
    "\n",
    "upload_response = requests.post(upload_url, files=files)\n",
    "upload_response.raise_for_status()\n",
    "print(json.dumps(upload_response.json(), indent=2))"
   ]
  }
 ],
 "metadata": {
  "kernelspec": {
   "display_name": "Python 3",
   "language": "python",
   "name": "python3"
  },
  "language_info": {
   "codemirror_mode": {
    "name": "ipython",
    "version": 3
   },
   "file_extension": ".py",
   "mimetype": "text/x-python",
   "name": "python",
   "nbconvert_exporter": "python",
   "pygments_lexer": "ipython3",
   "version": "3.13.3"
  }
 },
 "nbformat": 4,
 "nbformat_minor": 5
}
